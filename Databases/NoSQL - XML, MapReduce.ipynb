{
 "cells": [
  {
   "cell_type": "markdown",
   "metadata": {},
   "source": [
    "### Map Reduce Advanced - Count number of friends"
   ]
  },
  {
   "cell_type": "code",
   "execution_count": null,
   "metadata": {},
   "outputs": [],
   "source": [
    "import sys\n",
    "from collections import OrderedDict\n",
    "class MapReduce:\n",
    "    def __init__(self):\n",
    "        self.intermediate = OrderedDict()\n",
    "        self.result = []\n",
    "   \n",
    "    def emitIntermediate(self, key, value):\n",
    "        self.intermediate.setdefault(key, [])\n",
    "        self.intermediate[key].append(value)\n",
    "\n",
    "    def emit(self, value):\n",
    "        self.result.append(value) \n",
    "\n",
    "    def execute(self, data, mapper, reducer):\n",
    "        \n",
    "        for record in data: #here, instead of processing all the data in one go, the data is processed per line\n",
    "                            #in other word, the task is splitted/mapped\n",
    "            mapper(record)  #intermediate --> key: person's name, values: list of friends' name\n",
    "            \n",
    "        for key in self.intermediate:\n",
    "            reducer(key, self.intermediate[key])\n",
    "        \n",
    "        self.result.sort()\n",
    "        for item in self.result:\n",
    "            print \"{\\\"key\\\":\\\"\"+item[0]+\"\\\",\\\"value\\\":\\\"\" + str(item[1]) + \"\\\"}\"\n",
    "\n",
    "mapReducer = MapReduce()\n",
    "\n",
    "def mapper(record):\n",
    "    #Start writing the Map code here\n",
    "    v1, v2 = record.split()\n",
    "    mapReducer.emitIntermediate(v1, v2)\n",
    "    mapReducer.emitIntermediate(v2, v1)\n",
    "\n",
    "def reducer(key, list_of_values):\n",
    "    #Start writing the Reduce code here\n",
    "    mapReducer.emit([key, len(list_of_values)])\n",
    "\n",
    "if __name__ == '__main__':\n",
    "    inputData = []\n",
    "    for line in sys.stdin:\n",
    "        inputData.append(line)\n",
    "    mapReducer.execute(inputData, mapper, reducer)"
   ]
  },
  {
   "cell_type": "code",
   "execution_count": 2,
   "metadata": {},
   "outputs": [
    {
     "name": "stdout",
     "output_type": "stream",
     "text": [
      "OrderedDict([('Joe', ['Sue', 'Phi']), ('Sue', ['Joe', 'Phi']), ('Phi', ['Sue', 'Joe', 'Alice']), ('Alice', ['Phi'])])\n",
      "Joe ['Sue', 'Phi']\n",
      "Sue ['Joe', 'Phi']\n",
      "Phi ['Sue', 'Joe', 'Alice']\n",
      "Alice ['Phi']\n"
     ]
    }
   ],
   "source": [
    "from collections import OrderedDict\n",
    "intermediate = OrderedDict()\n",
    "\n",
    "def emitIntermediate(key, value):\n",
    "    intermediate.setdefault(key, [])       \n",
    "    intermediate[key].append(value)\n",
    "\n",
    "data = [['Joe', 'Sue'], ['Sue', 'Phi'], ['Phi', 'Joe'], ['Phi', 'Alice']]\n",
    "\n",
    "for record in data:\n",
    "    v1, v2 = record[0], record[1]\n",
    "    emitIntermediate(v1, v2)\n",
    "    emitIntermediate(v2, v1)\n",
    "\n",
    "print(intermediate)\n",
    "\n",
    "for key, items in intermediate.items():\n",
    "    print(key, items)"
   ]
  },
  {
   "cell_type": "markdown",
   "metadata": {},
   "source": [
    "### Map Reduce Advanced - Relational Join"
   ]
  },
  {
   "cell_type": "code",
   "execution_count": null,
   "metadata": {},
   "outputs": [],
   "source": [
    "import sys\n",
    "from collections import OrderedDict\n",
    "class MapReduce:\n",
    "    def __init__(self):\n",
    "        self.intermediate = OrderedDict()\n",
    "        self.result = []\n",
    "   \n",
    "    def emitIntermediate(self, key, value):\n",
    "        self.intermediate.setdefault(key, [])       \n",
    "        self.intermediate[key].append(value)\n",
    "\n",
    "    def emit(self, value):\n",
    "        self.result.append(value) \n",
    "\n",
    "    def execute(self, data, mapper, reducer):\n",
    "        for record in data:\n",
    "            mapper(record) \n",
    "            \n",
    "        # print(self.intermediate)\n",
    "            \n",
    "        for key in self.intermediate:\n",
    "            reducer(key, self.intermediate[key])\n",
    "\n",
    "        self.result.sort()\n",
    "        for item in self.result:\n",
    "            print item\n",
    "\n",
    "mapReducer = MapReduce()\n",
    "\n",
    "def mapper(record):\n",
    "    #Start writing the Map code here\n",
    "    words = record.rstrip().split(',')\n",
    "    if words[0]=='Department':\n",
    "        mapReducer.emitIntermediate(words[1],('D',words[2]))\n",
    "    elif words[0]=='Employee':\n",
    "        mapReducer.emitIntermediate(words[2],('E',words[1]))\n",
    "\n",
    "def reducer(key, list_of_values):\n",
    "    #Start writing the Reduce code here\n",
    "    # list_of_values.sort()\n",
    "    # name = list_of_values[-1][-1]\n",
    "    # for d in list_of_values:\n",
    "    #     if d[0] == 'D':\n",
    "    #         mapReducer.emit((key, name, d[-1]))\n",
    "    name = [item[1] for item in list_of_values if item[0] == 'E'][0]\n",
    "    for item in [item[1] for item in list_of_values if item[0] == 'D']:\n",
    "        mapReducer.emit((key, name, item))\n",
    "\n",
    "if __name__ == '__main__':\n",
    "  inputData = []\n",
    "  for line in sys.stdin:\n",
    "   inputData.append(line)\n",
    "  mapReducer.execute(inputData, mapper, reducer)"
   ]
  }
 ],
 "metadata": {
  "kernelspec": {
   "display_name": "Python 3",
   "language": "python",
   "name": "python3"
  },
  "language_info": {
   "codemirror_mode": {
    "name": "ipython",
    "version": 3
   },
   "file_extension": ".py",
   "mimetype": "text/x-python",
   "name": "python",
   "nbconvert_exporter": "python",
   "pygments_lexer": "ipython3",
   "version": "3.8.3"
  }
 },
 "nbformat": 4,
 "nbformat_minor": 4
}
