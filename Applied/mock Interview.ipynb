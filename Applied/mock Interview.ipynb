{
 "cells": [
  {
   "cell_type": "code",
   "execution_count": null,
   "metadata": {},
   "outputs": [],
   "source": [
    "Array of int [1,2,3,5,7,2,7,9]\n",
    "Target 8\n",
    "\n",
    "For i, iVal in enumerate(arr):\n",
    "\tFor j in enumerate(arr):\n",
    "\t\tIf i != j:\n",
    "\t\t\tIf iVal + jVal = target\n",
    "\t\t\toutput.append(iVal, jVal)"
   ]
  },
  {
   "cell_type": "code",
   "execution_count": 8,
   "metadata": {},
   "outputs": [
    {
     "data": {
      "text/plain": [
       "[7, 9]"
      ]
     },
     "execution_count": 8,
     "metadata": {},
     "output_type": "execute_result"
    }
   ],
   "source": [
    "arr = [1,2,3,5,7,2,7,9]\n",
    "target = 8\n",
    "\n",
    "def myFunc (arr, target):\n",
    "    output = []\n",
    "    for i, iVal in enumerate(arr):\n",
    "        for j, jVal in enumerate(arr):\n",
    "            if i != j:\n",
    "                if iVal + jVal == target:\n",
    "                    output.append(iVal)\n",
    "                    output.append(jVal)\n",
    "                    return output\n",
    "    return output\n",
    "\n",
    "myFunc(arr, 16)"
   ]
  },
  {
   "cell_type": "code",
   "execution_count": null,
   "metadata": {},
   "outputs": [],
   "source": [
    "time complexity = O(n^2) because 2 for loop\n",
    "space complexity = constant"
   ]
  },
  {
   "cell_type": "code",
   "execution_count": 12,
   "metadata": {},
   "outputs": [
    {
     "data": {
      "text/plain": [
       "[9, 7]"
      ]
     },
     "execution_count": 12,
     "metadata": {},
     "output_type": "execute_result"
    }
   ],
   "source": [
    "arr = [1,2,3,5,7,2,7,9]\n",
    "target = 8\n",
    "\n",
    "def myFunc (arr, target):\n",
    "    output = []\n",
    "    numList = []\n",
    "    for i, iVal in enumerate(arr):\n",
    "        numList.append(iVal)\n",
    "        if target - iVal in numList:\n",
    "            output.append(iVal)\n",
    "            output.append(target - iVal)\n",
    "            return output\n",
    "    return output\n",
    "\n",
    "myFunc(arr, 16)"
   ]
  },
  {
   "cell_type": "code",
   "execution_count": null,
   "metadata": {},
   "outputs": [],
   "source": [
    "time complexity = O(n) because 1 for loop\n",
    "space complexity = O(n)"
   ]
  },
  {
   "cell_type": "code",
   "execution_count": 9,
   "metadata": {},
   "outputs": [
    {
     "data": {
      "text/plain": [
       "[9, 7]"
      ]
     },
     "execution_count": 9,
     "metadata": {},
     "output_type": "execute_result"
    }
   ],
   "source": [
    "arr = [1,2,3,5,7,2,7,9]\n",
    "target = 8\n",
    "\n",
    "def myFunc (arr, target):\n",
    "    output = []\n",
    "    numDict = {}\n",
    "    for i, iVal in enumerate(arr):\n",
    "        numDict[i] = iVal\n",
    "        if target - iVal in numDict.values():\n",
    "            output.append(iVal)\n",
    "            output.append(target - iVal)\n",
    "            return output\n",
    "    return output\n",
    "\n",
    "myFunc(arr, 16)"
   ]
  },
  {
   "cell_type": "code",
   "execution_count": null,
   "metadata": {},
   "outputs": [],
   "source": [
    "time complexity = O(n) because 1 for loop\n",
    "space complexity = O(n)"
   ]
  },
  {
   "cell_type": "code",
   "execution_count": 4,
   "metadata": {},
   "outputs": [
    {
     "name": "stdout",
     "output_type": "stream",
     "text": [
      "1\n",
      "*\n",
      "3\n",
      "4\n",
      "*\n"
     ]
    }
   ],
   "source": [
    "# x = ['1', '*', '3', '4', '*', '6', '*', '8', '9', '*', '11', '*', ....]\n",
    "n = 5\n",
    "\n",
    "def myFunc2(n):\n",
    "    for i in range(1,n+1):\n",
    "        if i % 5 == 0 or i % 5 == 2:\n",
    "            print('*')\n",
    "        else:\n",
    "            print(i)\n",
    "\n",
    "myFunc2(n)"
   ]
  },
  {
   "cell_type": "code",
   "execution_count": 46,
   "metadata": {},
   "outputs": [
    {
     "name": "stdout",
     "output_type": "stream",
     "text": [
      "True\n",
      "False\n",
      "False\n",
      "False\n",
      "True\n"
     ]
    }
   ],
   "source": [
    "string1 = '({[]})'\n",
    "string2 = '({[)})'\n",
    "string3 = '('\n",
    "string4 = ')'\n",
    "string5 = '()[]{}'\n",
    "\n",
    "def validParanthesis(string):\n",
    "    myDict = {')':'(', ']':'[', '}':'{'}\n",
    "    myStack = []\n",
    "    for i in string:\n",
    "        if i in myDict.values():\n",
    "            myStack.append(i)\n",
    "        else:\n",
    "            if myStack == []:\n",
    "                return False\n",
    "            if myStack.pop() != myDict[i]:\n",
    "                return False\n",
    "    if myStack:\n",
    "        return False\n",
    "    else:\n",
    "        return True\n",
    "\n",
    "print(validParanthesis(string1))\n",
    "print(validParanthesis(string2))\n",
    "print(validParanthesis(string3))\n",
    "print(validParanthesis(string4))\n",
    "print(validParanthesis(string5))"
   ]
  },
  {
   "cell_type": "code",
   "execution_count": 51,
   "metadata": {},
   "outputs": [
    {
     "name": "stdout",
     "output_type": "stream",
     "text": [
      "True\n",
      "False\n",
      "False\n",
      "False\n",
      "True\n"
     ]
    }
   ],
   "source": [
    "string1 = '({[]})'\n",
    "string2 = '({[)})'\n",
    "string3 = '('\n",
    "string4 = ')'\n",
    "string5 = '()[]{}'\n",
    "\n",
    "def validParanthesis(string):\n",
    "    myStack = []\n",
    "    for i in string:\n",
    "        if i in ['(', '[', '{']:\n",
    "            myStack.append(i)\n",
    "        else:\n",
    "            if myStack == []:\n",
    "                return False\n",
    "            if (i == ')' and myStack[-1] == '(') or (i == ']' and myStack[-1] == '[') or  (i == '}' and myStack[-1] == '{'):\n",
    "                myStack.pop()\n",
    "    return myStack == []\n",
    "\n",
    "print(validParanthesis(string1))\n",
    "print(validParanthesis(string2))\n",
    "print(validParanthesis(string3))\n",
    "print(validParanthesis(string4))\n",
    "print(validParanthesis(string5))"
   ]
  },
  {
   "cell_type": "code",
   "execution_count": null,
   "metadata": {},
   "outputs": [],
   "source": [
    "OOP = paradigma object. setiap entitas digambarkan sebagai sebuah objek. \n",
    "4 sifat:\n",
    "    1. abstract class: kita bisa membuat sebuah entitas sebagai class yang bisa diinstantiasi menjadi objek\n",
    "    2. inheritance/pewarisan: class parent attribute dan method bisa diturunkan ke child class\n",
    "    3. polymorphism\n",
    "\n",
    "SOLID"
   ]
  },
  {
   "cell_type": "code",
   "execution_count": 90,
   "metadata": {},
   "outputs": [
    {
     "name": "stdout",
     "output_type": "stream",
     "text": [
      "4\n",
      "3\n",
      "2\n",
      "1\n"
     ]
    }
   ],
   "source": [
    "import math\n",
    "print(int(math.log10(1234))+1)\n",
    "print(int(math.log10(123))+1)\n",
    "print(int(math.log10(12))+1)\n",
    "print(int(math.log10(1))+1)"
   ]
  },
  {
   "cell_type": "code",
   "execution_count": 99,
   "metadata": {},
   "outputs": [
    {
     "data": {
      "text/plain": [
       "4321"
      ]
     },
     "execution_count": 99,
     "metadata": {},
     "output_type": "execute_result"
    }
   ],
   "source": [
    "import math\n",
    "\n",
    "def reverseDigit(n):\n",
    "    output = 0\n",
    "    while n > 0:\n",
    "        output += n%10 * (10 ** (int(math.log10(n))))\n",
    "        n = n//10\n",
    "    return output\n",
    "\n",
    "reverseDigit(1234)"
   ]
  },
  {
   "cell_type": "code",
   "execution_count": 112,
   "metadata": {},
   "outputs": [
    {
     "data": {
      "text/plain": [
       "4321"
      ]
     },
     "execution_count": 112,
     "metadata": {},
     "output_type": "execute_result"
    }
   ],
   "source": [
    "def reverseDigit(n):\n",
    "    output = 0\n",
    "    while n > 0:\n",
    "        output = output * 10 + n % 10\n",
    "        n = n // 10\n",
    "    return output\n",
    "\n",
    "reverseDigit(1234)"
   ]
  }
 ],
 "metadata": {
  "kernelspec": {
   "display_name": "Python 3 (ipykernel)",
   "language": "python",
   "name": "python3"
  },
  "language_info": {
   "codemirror_mode": {
    "name": "ipython",
    "version": 3
   },
   "file_extension": ".py",
   "mimetype": "text/x-python",
   "name": "python",
   "nbconvert_exporter": "python",
   "pygments_lexer": "ipython3",
   "version": "3.8.3"
  }
 },
 "nbformat": 4,
 "nbformat_minor": 4
}
