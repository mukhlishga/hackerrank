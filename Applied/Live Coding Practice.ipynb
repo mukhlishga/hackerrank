{
 "cells": [
  {
   "cell_type": "code",
   "execution_count": 1,
   "metadata": {
    "scrolled": true
   },
   "outputs": [
    {
     "name": "stdout",
     "output_type": "stream",
     "text": [
      "4321\n",
      "-4321\n",
      "21\n"
     ]
    }
   ],
   "source": [
    "def reverseInt(n):\n",
    "    output = 0\n",
    "    \n",
    "    if n >= 0:\n",
    "        while n > 0:\n",
    "            output = output*10 + n%10\n",
    "            n = n//10\n",
    "        return output\n",
    "    \n",
    "    else:\n",
    "        n = n*(-1)\n",
    "        while n > 0:\n",
    "            output = output*10 + n%10\n",
    "            n = n//10\n",
    "        return output*(-1)\n",
    "        \n",
    "print(reverseInt(1234))\n",
    "print(reverseInt(-1234))\n",
    "print(reverseInt(1200))"
   ]
  },
  {
   "cell_type": "code",
   "execution_count": 2,
   "metadata": {},
   "outputs": [
    {
     "name": "stdout",
     "output_type": "stream",
     "text": [
      "4321\n",
      "-4321\n",
      "21\n"
     ]
    }
   ],
   "source": [
    "import math\n",
    "\n",
    "def reverseInt(n):\n",
    "    output = 0\n",
    "    \n",
    "    if n >= 0:\n",
    "        while n > 0:\n",
    "            output += n%10 * 10 ** int(math.log10(n))\n",
    "            n = n//10\n",
    "        return output\n",
    "    \n",
    "    else:\n",
    "        n = n*(-1)\n",
    "        while n > 0:\n",
    "            output += n%10 * 10 ** int(math.log10(n))\n",
    "            n = n//10\n",
    "        return output*(-1)\n",
    "\n",
    "print(reverseInt(1234))\n",
    "print(reverseInt(-1234))\n",
    "print(reverseInt(1200))"
   ]
  },
  {
   "cell_type": "code",
   "execution_count": 3,
   "metadata": {},
   "outputs": [
    {
     "name": "stdout",
     "output_type": "stream",
     "text": [
      "[1, 2, 2, 3, 3, 4]\n",
      "[1, 1, 2, 2, 3, 3, 4]\n",
      "[1, 2, 3]\n"
     ]
    }
   ],
   "source": [
    "def mergeArr(arr1, arr2):\n",
    "    output = []\n",
    "    i1 = 0\n",
    "    i2 = 0\n",
    "    \n",
    "    while i1 < len(arr1) and i2 < len(arr2):\n",
    "        if arr1[i1] <= arr2[i2]:\n",
    "            output.append(arr1[i1])\n",
    "            i1 += 1\n",
    "        else:\n",
    "            output.append(arr2[i2])\n",
    "            i2 += 1\n",
    "    \n",
    "    while i1 < len(arr1):\n",
    "        output.append(arr1[i1])\n",
    "        i1 += 1\n",
    "\n",
    "    while i2 < len(arr2):\n",
    "        output.append(arr2[i2])\n",
    "        i2 += 1\n",
    "    \n",
    "    return output\n",
    "\n",
    "print(mergeArr([1,2,3],[2,3,4]))\n",
    "print(mergeArr([1,2,3],[1,2,3,4]))\n",
    "print(mergeArr([1,2,3],[]))"
   ]
  },
  {
   "cell_type": "code",
   "execution_count": 4,
   "metadata": {},
   "outputs": [
    {
     "name": "stdout",
     "output_type": "stream",
     "text": [
      "[1, 2, 3, 4, 5, 7]\n"
     ]
    }
   ],
   "source": [
    "def bubbleSort(arr):\n",
    "    for i in range(0,len(arr)-1):\n",
    "        for j in range(0,len(arr)-1):\n",
    "            if arr[j] > arr[j+1]:\n",
    "                arr[j], arr[j+1] = arr[j+1], arr[j]\n",
    "    return arr\n",
    "\n",
    "print(bubbleSort([2,4,3,5,7,1]))"
   ]
  },
  {
   "cell_type": "code",
   "execution_count": 5,
   "metadata": {},
   "outputs": [
    {
     "name": "stdout",
     "output_type": "stream",
     "text": [
      "0\n",
      "1\n",
      "2\n",
      "3\n",
      "4\n"
     ]
    }
   ],
   "source": [
    "def mySearch(arr, target):\n",
    "    l = 0\n",
    "    r = len(arr)-1\n",
    "    m = (l+r)//2\n",
    "    while (l <= r):\n",
    "        if arr[m] == target:\n",
    "            return m\n",
    "        else:\n",
    "            if target < arr[m]:\n",
    "                r = m - 1\n",
    "                m = (l+r)//2\n",
    "            else:\n",
    "                l = m +1\n",
    "                m = (l+r)//2\n",
    "\n",
    "arr = [-2, 3, 7, 9, 13]\n",
    "print(mySearch(arr, -2))\n",
    "print(mySearch(arr, 3))\n",
    "print(mySearch(arr, 7))\n",
    "print(mySearch(arr, 9))\n",
    "print(mySearch(arr, 13))"
   ]
  },
  {
   "cell_type": "code",
   "execution_count": 6,
   "metadata": {},
   "outputs": [
    {
     "name": "stdout",
     "output_type": "stream",
     "text": [
      "(1, 5)\n"
     ]
    }
   ],
   "source": [
    "#time complexity O(n^2), space complexity constant\n",
    "\n",
    "def searchCombination(arr, target):\n",
    "    for i in range(len(arr)):\n",
    "        for j in range(len(arr)):\n",
    "            if i != j:\n",
    "                if arr[i] + arr[j] == target:\n",
    "                    return arr[i], arr[j]\n",
    "    return None\n",
    "\n",
    "arr = [1,2,3,4,5,6,7,8,9]\n",
    "print(searchCombination(arr, 6))"
   ]
  },
  {
   "cell_type": "code",
   "execution_count": 7,
   "metadata": {},
   "outputs": [
    {
     "name": "stdout",
     "output_type": "stream",
     "text": [
      "(4, 2)\n"
     ]
    }
   ],
   "source": [
    "#time complexity O(n), space complexity n\n",
    "\n",
    "def searchCombination(arr, target):\n",
    "    myList = []\n",
    "    for i in range(len(arr)):\n",
    "        myList.append(arr[i])\n",
    "        if target - arr[i] in myList and arr[i] != target - arr[i]:\n",
    "            return arr[i], target - arr[i]\n",
    "    return None\n",
    "\n",
    "arr = [1,2,3,4,5,6,7,8,9]\n",
    "print(searchCombination(arr, 6))"
   ]
  },
  {
   "cell_type": "code",
   "execution_count": 8,
   "metadata": {},
   "outputs": [
    {
     "data": {
      "text/plain": [
       "[1, '*', 3, 4, '*', 6, '*', 8, 9, '*', 11, '*', 13, 14, '*']"
      ]
     },
     "execution_count": 8,
     "metadata": {},
     "output_type": "execute_result"
    }
   ],
   "source": [
    "# x = ['1', '*', '3', '4', '*', '6', '*', '8', '9', '*', '11', '*', ....]\n",
    "\n",
    "def func1(n):\n",
    "    output = []\n",
    "    for i in range(1,n+1):\n",
    "        if i % 5 == 0 or i % 5 ==2:\n",
    "            output.append('*')\n",
    "        else:\n",
    "            output.append(i)\n",
    "    return output\n",
    "\n",
    "func1(15)"
   ]
  },
  {
   "cell_type": "code",
   "execution_count": 9,
   "metadata": {},
   "outputs": [
    {
     "name": "stdout",
     "output_type": "stream",
     "text": [
      "1\n",
      "2\n",
      "3\n",
      "5\n",
      "8\n"
     ]
    }
   ],
   "source": [
    "def fibo(n):\n",
    "    if n == 0 or n ==1: \n",
    "        return 1\n",
    "    else:\n",
    "        return fibo(n-1) + fibo(n-2)\n",
    "\n",
    "print(fibo(1))\n",
    "print(fibo(2))\n",
    "print(fibo(3))\n",
    "print(fibo(4))\n",
    "print(fibo(5))"
   ]
  },
  {
   "cell_type": "code",
   "execution_count": 10,
   "metadata": {},
   "outputs": [
    {
     "name": "stdout",
     "output_type": "stream",
     "text": [
      "1\n",
      "2\n",
      "3\n",
      "5\n",
      "8\n"
     ]
    }
   ],
   "source": [
    "def fibo(n):\n",
    "    dp = [0 for i in range(n+1)]\n",
    "    dp[0] = 1\n",
    "    dp[1] = 1\n",
    "    for i in range(2,n+1):\n",
    "        dp[i] = dp[i-1] + dp[i-2]\n",
    "    return dp[n]\n",
    "\n",
    "print(fibo(1))\n",
    "print(fibo(2))\n",
    "print(fibo(3))\n",
    "print(fibo(4))\n",
    "print(fibo(5))"
   ]
  },
  {
   "cell_type": "code",
   "execution_count": 11,
   "metadata": {},
   "outputs": [
    {
     "name": "stdout",
     "output_type": "stream",
     "text": [
      "1\n",
      "2\n",
      "6\n",
      "24\n",
      "120\n"
     ]
    }
   ],
   "source": [
    "def factorial(n):\n",
    "    if n == 0 or n ==1: \n",
    "        return 1\n",
    "    else:\n",
    "        return n*factorial(n-1)\n",
    "\n",
    "print(factorial(1))\n",
    "print(factorial(2))\n",
    "print(factorial(3))\n",
    "print(factorial(4))\n",
    "print(factorial(5))"
   ]
  },
  {
   "cell_type": "code",
   "execution_count": 12,
   "metadata": {},
   "outputs": [
    {
     "name": "stdout",
     "output_type": "stream",
     "text": [
      "1\n",
      "2\n",
      "6\n",
      "24\n",
      "120\n"
     ]
    }
   ],
   "source": [
    "def factorial(n):\n",
    "    dp = [0 for i in range(n+1)]\n",
    "    dp[0] = 1\n",
    "    dp[1] = 1\n",
    "    for i in range(2,n+1):\n",
    "        dp[i] = i * dp[i-1]\n",
    "    return dp[n]\n",
    "\n",
    "print(factorial(1))\n",
    "print(factorial(2))\n",
    "print(factorial(3))\n",
    "print(factorial(4))\n",
    "print(factorial(5))"
   ]
  },
  {
   "cell_type": "code",
   "execution_count": null,
   "metadata": {},
   "outputs": [],
   "source": [
    "# Find the maximum distance between repeated elements in an unsorted array?\n",
    "# O(n^2)\n",
    "def findMaxDIst(arr):\n",
    "    output = 0\n",
    "\n",
    "    for i in range(len(arr)):\n",
    "        count = 0\n",
    "        for j in range(i+1,len(arr)):\n",
    "            if arr[i] != arr[j]:\n",
    "                count += 1\n",
    "            elif arr[i] == arr[j]:\n",
    "                output = max(output, count)\n",
    "                break\n",
    "\n",
    "    return output\n",
    "\n",
    "print(findMaxDIst([3, 4, 5, 2, 3]))\n",
    "print(findMaxDIst([2, 3, 4, 3, 1, 2, 1]))"
   ]
  },
  {
   "cell_type": "code",
   "execution_count": 4,
   "metadata": {},
   "outputs": [
    {
     "name": "stdout",
     "output_type": "stream",
     "text": [
      "3\n",
      "4\n"
     ]
    }
   ],
   "source": [
    "# Find the maximum distance between repeated elements in an unsorted array?\n",
    "# O(n)\n",
    "def findMaxDIst(arr):\n",
    "    output = 0\n",
    "    myDict = {}\n",
    "\n",
    "    for i in range(len(arr)):\n",
    "        if arr[i] in myDict:\n",
    "            output = max(output, i - myDict[arr[i]] - 1)\n",
    "        myDict[arr[i]] = i\n",
    "        \n",
    "    return output\n",
    "\n",
    "print(findMaxDIst([3, 4, 5, 2, 3]))\n",
    "print(findMaxDIst([2, 3, 4, 3, 1, 2, 1]))"
   ]
  }
 ],
 "metadata": {
  "kernelspec": {
   "display_name": "Python 3 (ipykernel)",
   "language": "python",
   "name": "python3"
  },
  "language_info": {
   "codemirror_mode": {
    "name": "ipython",
    "version": 3
   },
   "file_extension": ".py",
   "mimetype": "text/x-python",
   "name": "python",
   "nbconvert_exporter": "python",
   "pygments_lexer": "ipython3",
   "version": "3.8.3"
  }
 },
 "nbformat": 4,
 "nbformat_minor": 4
}
