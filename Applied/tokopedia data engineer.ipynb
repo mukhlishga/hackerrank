{
 "cells": [
  {
   "cell_type": "code",
   "execution_count": null,
   "metadata": {},
   "outputs": [],
   "source": [
    "#!/bin/python3\n",
    "\n",
    "import math\n",
    "import os\n",
    "import random\n",
    "import re\n",
    "import sys\n",
    "\n",
    "\n",
    "\n",
    "#\n",
    "# Complete the 'getMin' function below.\n",
    "#\n",
    "# The function is expected to return an INTEGER.\n",
    "# The function accepts STRING s as parameter.\n",
    "#\n",
    "\n",
    "def getMin(s):\n",
    "    # Write your code here\n",
    "    index1 = 0\n",
    "    index2 = 0\n",
    "    for item in s:\n",
    "        if item == '(':\n",
    "            index1 += 1\n",
    "        elif item == ')':\n",
    "            index2 += 1\n",
    "    return abs(index2 - index1)\n",
    "if __name__ == '__main__':"
   ]
  },
  {
   "cell_type": "code",
   "execution_count": null,
   "metadata": {},
   "outputs": [],
   "source": [
    "#!/bin/python3\n",
    "\n",
    "import math\n",
    "import os\n",
    "import random\n",
    "import re\n",
    "import sys\n",
    "\n",
    "\n",
    "\n",
    "import math\n",
    "#\n",
    "# Complete the 'finalInstances' function below.\n",
    "#\n",
    "# The function is expected to return an INTEGER.\n",
    "# The function accepts following parameters:\n",
    "#  1. INTEGER instances\n",
    "#  2. INTEGER_ARRAY averageUtil\n",
    "#\n",
    "\n",
    "def finalInstances(instances, averageUtil):\n",
    "    # Write your code here\n",
    "    pause = 0\n",
    "    for i,item in enumerate(averageUtil):\n",
    "        if not pause:\n",
    "            if item < 25:\n",
    "                if instances > 1:\n",
    "                    instances = math.ceil(instances/2)\n",
    "                    pause = 10\n",
    "            elif item >= 25 and item <= 60:\n",
    "                pass\n",
    "            elif item > 60:\n",
    "                if instances*2 < (2*(10**8)):\n",
    "                    instances = instances*2\n",
    "                    pause = 10\n",
    "        else:\n",
    "            pause -= 1\n",
    "                    \n",
    "    return instances\n",
    "if __name__ == '__main__':"
   ]
  },
  {
   "cell_type": "code",
   "execution_count": null,
   "metadata": {},
   "outputs": [],
   "source": [
    "#!/bin/python3\n",
    "\n",
    "import math\n",
    "import os\n",
    "import random\n",
    "import re\n",
    "import sys\n",
    "\n",
    "\n",
    "#\n",
    "# Complete the 'findSubsequence' function below.\n",
    "#\n",
    "# The function is expected to return an INTEGER_ARRAY.\n",
    "# The function accepts INTEGER_ARRAY arr as parameter.\n",
    "#\n",
    "\n",
    "def findSubsequence(arr):\n",
    "    # Write your code here\n",
    "    myList1 = [] # unique number\n",
    "    myList2 = [] # repeating number\n",
    "    for item in arr:\n",
    "        if item not in myList1:\n",
    "            myList1.append(item)\n",
    "        else:\n",
    "            myList2.append(item)\n",
    "    \n",
    "    if myList2 == sorted(myList2):\n",
    "        return myList2\n",
    "    return -1\n",
    "if __name__ == '__main__':"
   ]
  },
  {
   "cell_type": "code",
   "execution_count": null,
   "metadata": {},
   "outputs": [],
   "source": [
    "SELECT IFNULL(c.customer_name, 'N/A'), IFNULL(p.product_name, 'N/A'), IFNULL(t.quantity, 0)\n",
    "FROM customer c\n",
    "LEFT OUTER JOIN invoice i ON c.id = i.customer_id\n",
    "LEFT OUTER JOIN invoice_item t ON i.id = t.invoice_id\n",
    "LEFT OUTER JOIN product p ON t.product_id = p.id\n",
    "ORDER BY c.customer_name ASC, p.id ASC, t.id ASC\n",
    ";"
   ]
  },
  {
   "cell_type": "code",
   "execution_count": null,
   "metadata": {},
   "outputs": [],
   "source": [
    "def lambdaMap(arr):\n",
    "    ans = map(\n",
    "# Complete the lambda function below.  It begins in the non-alterable code above\n",
    "# lambda x: map(lambda n: n**2, x)\n",
    "lambda x: map(lambda n: n**2, filter(lambda m: m > 0, x))\n",
    "\n",
    ", arr)"
   ]
  },
  {
   "cell_type": "code",
   "execution_count": 22,
   "metadata": {},
   "outputs": [
    {
     "name": "stdout",
     "output_type": "stream",
     "text": [
      "[0, 11, 6, 5, 11, -4, 1, 3, 2, 7, 6]\n",
      "[0, 11, 12, 5, 1, -4, 4, 1, 2, 7, 6]\n"
     ]
    }
   ],
   "source": [
    "myList = [0,11,6,5,11,-4,1,3,2,7,6]\n",
    "print(myList)\n",
    "\n",
    "def test(myList):\n",
    "    while True:\n",
    "        myList[7] = myList[3] + myList[5]\n",
    "        if myList[7] < myList[6]:\n",
    "            myList[2] = myList[8] * myList[10]\n",
    "        if myList[2] > myList[4]:\n",
    "            return\n",
    "        else:\n",
    "            myList[6] = myList[1] - myList[9]\n",
    "            myList[4] = myList[10] - myList[3] # remove this and it is infinte loop\n",
    "\n",
    "test(myList)\n",
    "print(myList)"
   ]
  }
 ],
 "metadata": {
  "kernelspec": {
   "display_name": "Python 3 (ipykernel)",
   "language": "python",
   "name": "python3"
  },
  "language_info": {
   "codemirror_mode": {
    "name": "ipython",
    "version": 3
   },
   "file_extension": ".py",
   "mimetype": "text/x-python",
   "name": "python",
   "nbconvert_exporter": "python",
   "pygments_lexer": "ipython3",
   "version": "3.8.3"
  }
 },
 "nbformat": 4,
 "nbformat_minor": 4
}
