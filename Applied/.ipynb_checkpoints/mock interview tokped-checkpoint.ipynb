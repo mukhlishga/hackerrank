{
 "cells": [
  {
   "cell_type": "markdown",
   "metadata": {},
   "source": [
    "Create a function that takes a 32-bit signed integer called x and returns the reverse value of it. Returns 0 when the reversed integer overflows. Constraint for x -2^31 <= x <= 2^31 - 1"
   ]
  },
  {
   "cell_type": "code",
   "execution_count": 10,
   "metadata": {},
   "outputs": [
    {
     "name": "stdout",
     "output_type": "stream",
     "text": [
      "4321\n",
      "-4321\n",
      "21\n",
      "22\n",
      "-1\n"
     ]
    }
   ],
   "source": [
    "def reverseInt(numInt):\n",
    "    numStr = str(numInt)\n",
    "    output = ''\n",
    "\n",
    "    if numInt > 0:\n",
    "        for i in range(len(numStr)):\n",
    "            output += numStr[len(numStr)-1-i]\n",
    "        return int(output)\n",
    "    else:\n",
    "        numStr = numStr[1:]\n",
    "        for i in range(len(numStr)):\n",
    "            output += numStr[len(numStr)-1-i]\n",
    "        output = '-' + output\n",
    "        return int(output)\n",
    "\n",
    "print(reverseInt(1234))\n",
    "print(reverseInt(-1234))\n",
    "print(reverseInt(120))\n",
    "print(reverseInt(2200000000))\n",
    "print(reverseInt(-1000000000))"
   ]
  },
  {
   "cell_type": "code",
   "execution_count": 27,
   "metadata": {},
   "outputs": [
    {
     "name": "stdout",
     "output_type": "stream",
     "text": [
      "4321\n",
      "-4321\n",
      "21\n",
      "22\n",
      "-1\n"
     ]
    }
   ],
   "source": [
    "def reverseInt(n):\n",
    "    output = 0\n",
    "    \n",
    "    if n > 0 :\n",
    "        while n > 0:\n",
    "            output = output * 10 + n % 10 \n",
    "            n = n // 10\n",
    "        return output\n",
    "    else:\n",
    "        n = n * (-1)\n",
    "        while n > 0:\n",
    "            output = output * 10 + n % 10\n",
    "            n = n // 10\n",
    "        return output * (-1)\n",
    "\n",
    "print(reverseInt(1234))\n",
    "print(reverseInt(-1234))\n",
    "print(reverseInt(120))\n",
    "print(reverseInt(2200000000))\n",
    "print(reverseInt(-1000000000))"
   ]
  },
  {
   "cell_type": "markdown",
   "metadata": {},
   "source": [
    "Create a function to merge two sorted arrays/slices and return it as a new sorted array. The new array should be made by splicing together the elements of the first two lists."
   ]
  },
  {
   "cell_type": "code",
   "execution_count": 21,
   "metadata": {},
   "outputs": [
    {
     "name": "stdout",
     "output_type": "stream",
     "text": [
      "[1, 1, 2, 3, 4, 4]\n",
      "[0, 1]\n"
     ]
    }
   ],
   "source": [
    "def mergeArr(arr1, arr2):\n",
    "    \n",
    "    for i in arr1:\n",
    "        arr2.append(i)\n",
    "    \n",
    "    return sorted(arr2)\n",
    "\n",
    "print(mergeArr([1,2,4], [1,3,4]))\n",
    "print(mergeArr([0], [1]))"
   ]
  },
  {
   "cell_type": "code",
   "execution_count": 49,
   "metadata": {},
   "outputs": [
    {
     "name": "stdout",
     "output_type": "stream",
     "text": [
      "[1, 1, 2, 3, 4, 4]\n",
      "[0, 1]\n",
      "[1]\n"
     ]
    }
   ],
   "source": [
    "def mergeArr(arr1, arr2):\n",
    "    output = []\n",
    "    i1 = 0\n",
    "    i2 = 0\n",
    "    while i1 < len(arr1) and i2 < len(arr2):\n",
    "        if arr1[i1] < arr2[i2]:\n",
    "            output.append(arr1[i1])\n",
    "            i1 += 1\n",
    "        else:\n",
    "            output.append(arr2[i2])\n",
    "            i2 += 1\n",
    "            \n",
    "    while i1 < len(arr1):\n",
    "        output.append(arr1[i1])\n",
    "        i1 += 1\n",
    "    \n",
    "    while i2 < len(arr2):\n",
    "        output.append(arr2[i2])\n",
    "        i2 += 1\n",
    "    \n",
    "    return output\n",
    "\n",
    "print(mergeArr([1,2,4], [1,3,4]))\n",
    "print(mergeArr([0], [1]))\n",
    "print(mergeArr([], [1]))"
   ]
  }
 ],
 "metadata": {
  "kernelspec": {
   "display_name": "Python 3 (ipykernel)",
   "language": "python",
   "name": "python3"
  },
  "language_info": {
   "codemirror_mode": {
    "name": "ipython",
    "version": 3
   },
   "file_extension": ".py",
   "mimetype": "text/x-python",
   "name": "python",
   "nbconvert_exporter": "python",
   "pygments_lexer": "ipython3",
   "version": "3.8.3"
  }
 },
 "nbformat": 4,
 "nbformat_minor": 4
}
